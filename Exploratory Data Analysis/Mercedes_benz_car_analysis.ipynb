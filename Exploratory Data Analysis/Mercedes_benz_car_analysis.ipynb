{
  "nbformat": 4,
  "nbformat_minor": 0,
  "metadata": {
    "colab": {
      "name": "Mercedes benz car analysis.ipynb",
      "provenance": [],
      "collapsed_sections": []
    },
    "kernelspec": {
      "name": "python3",
      "display_name": "Python 3"
    },
    "language_info": {
      "name": "python"
    },
    "widgets": {
      "application/vnd.jupyter.widget-state+json": {
        "82732b06004b4b5cba3544dbf61d7d62": {
          "model_module": "@jupyter-widgets/controls",
          "model_name": "HBoxModel",
          "model_module_version": "1.5.0",
          "state": {
            "_view_name": "HBoxView",
            "_dom_classes": [],
            "_model_name": "HBoxModel",
            "_view_module": "@jupyter-widgets/controls",
            "_model_module_version": "1.5.0",
            "_view_count": null,
            "_view_module_version": "1.5.0",
            "box_style": "",
            "layout": "IPY_MODEL_70d01f45543743a090bb8de916869df4",
            "_model_module": "@jupyter-widgets/controls",
            "children": [
              "IPY_MODEL_28932db4efff415a926a948868aec761",
              "IPY_MODEL_2e5034028a504e5dbb4f3a05569b3c37",
              "IPY_MODEL_bc93ad87916348d9a91c329b97ab4366"
            ]
          }
        },
        "70d01f45543743a090bb8de916869df4": {
          "model_module": "@jupyter-widgets/base",
          "model_name": "LayoutModel",
          "model_module_version": "1.2.0",
          "state": {
            "_view_name": "LayoutView",
            "grid_template_rows": null,
            "right": null,
            "justify_content": null,
            "_view_module": "@jupyter-widgets/base",
            "overflow": null,
            "_model_module_version": "1.2.0",
            "_view_count": null,
            "flex_flow": "row wrap",
            "width": "100%",
            "min_width": null,
            "border": null,
            "align_items": null,
            "bottom": null,
            "_model_module": "@jupyter-widgets/base",
            "top": null,
            "grid_column": null,
            "overflow_y": null,
            "overflow_x": null,
            "grid_auto_flow": null,
            "grid_area": null,
            "grid_template_columns": null,
            "flex": null,
            "_model_name": "LayoutModel",
            "justify_items": null,
            "grid_row": null,
            "max_height": null,
            "align_content": null,
            "visibility": null,
            "align_self": null,
            "height": null,
            "min_height": null,
            "padding": null,
            "grid_auto_rows": null,
            "grid_gap": null,
            "max_width": null,
            "order": null,
            "_view_module_version": "1.2.0",
            "grid_template_areas": null,
            "object_position": null,
            "object_fit": null,
            "grid_auto_columns": null,
            "margin": null,
            "display": "inline-flex",
            "left": null
          }
        },
        "28932db4efff415a926a948868aec761": {
          "model_module": "@jupyter-widgets/controls",
          "model_name": "HTMLModel",
          "model_module_version": "1.5.0",
          "state": {
            "_view_name": "HTMLView",
            "style": "IPY_MODEL_b9ca4069d2164800b830dd7c0cd7f846",
            "_dom_classes": [],
            "description": "",
            "_model_name": "HTMLModel",
            "placeholder": "​",
            "_view_module": "@jupyter-widgets/controls",
            "_model_module_version": "1.5.0",
            "value": "Done! Use &#x27;show&#x27; commands to display/save.   ",
            "_view_count": null,
            "_view_module_version": "1.5.0",
            "description_tooltip": null,
            "_model_module": "@jupyter-widgets/controls",
            "layout": "IPY_MODEL_359e0b772d254065b221f30a5111291e"
          }
        },
        "2e5034028a504e5dbb4f3a05569b3c37": {
          "model_module": "@jupyter-widgets/controls",
          "model_name": "FloatProgressModel",
          "model_module_version": "1.5.0",
          "state": {
            "_view_name": "ProgressView",
            "style": "IPY_MODEL_2ac974b80d67441dbce1b3c1a9bad9b4",
            "_dom_classes": [],
            "description": "",
            "_model_name": "FloatProgressModel",
            "bar_style": "success",
            "max": 1,
            "_view_module": "@jupyter-widgets/controls",
            "_model_module_version": "1.5.0",
            "value": 1,
            "_view_count": null,
            "_view_module_version": "1.5.0",
            "orientation": "horizontal",
            "min": 0,
            "description_tooltip": null,
            "_model_module": "@jupyter-widgets/controls",
            "layout": "IPY_MODEL_6982dddc91b9448abbab30eb370ec451"
          }
        },
        "bc93ad87916348d9a91c329b97ab4366": {
          "model_module": "@jupyter-widgets/controls",
          "model_name": "HTMLModel",
          "model_module_version": "1.5.0",
          "state": {
            "_view_name": "HTMLView",
            "style": "IPY_MODEL_33e00a4620684a4582d8bcc7f8e6136f",
            "_dom_classes": [],
            "description": "",
            "_model_name": "HTMLModel",
            "placeholder": "​",
            "_view_module": "@jupyter-widgets/controls",
            "_model_module_version": "1.5.0",
            "value": " [100%]   00:00 -&gt; (00:00 left)",
            "_view_count": null,
            "_view_module_version": "1.5.0",
            "description_tooltip": null,
            "_model_module": "@jupyter-widgets/controls",
            "layout": "IPY_MODEL_53b742433f96461995dbfec19f94ad7a"
          }
        },
        "b9ca4069d2164800b830dd7c0cd7f846": {
          "model_module": "@jupyter-widgets/controls",
          "model_name": "DescriptionStyleModel",
          "model_module_version": "1.5.0",
          "state": {
            "_view_name": "StyleView",
            "_model_name": "DescriptionStyleModel",
            "description_width": "",
            "_view_module": "@jupyter-widgets/base",
            "_model_module_version": "1.5.0",
            "_view_count": null,
            "_view_module_version": "1.2.0",
            "_model_module": "@jupyter-widgets/controls"
          }
        },
        "359e0b772d254065b221f30a5111291e": {
          "model_module": "@jupyter-widgets/base",
          "model_name": "LayoutModel",
          "model_module_version": "1.2.0",
          "state": {
            "_view_name": "LayoutView",
            "grid_template_rows": null,
            "right": null,
            "justify_content": null,
            "_view_module": "@jupyter-widgets/base",
            "overflow": null,
            "_model_module_version": "1.2.0",
            "_view_count": null,
            "flex_flow": null,
            "width": null,
            "min_width": null,
            "border": null,
            "align_items": null,
            "bottom": null,
            "_model_module": "@jupyter-widgets/base",
            "top": null,
            "grid_column": null,
            "overflow_y": null,
            "overflow_x": null,
            "grid_auto_flow": null,
            "grid_area": null,
            "grid_template_columns": null,
            "flex": null,
            "_model_name": "LayoutModel",
            "justify_items": null,
            "grid_row": null,
            "max_height": null,
            "align_content": null,
            "visibility": null,
            "align_self": null,
            "height": null,
            "min_height": null,
            "padding": null,
            "grid_auto_rows": null,
            "grid_gap": null,
            "max_width": null,
            "order": null,
            "_view_module_version": "1.2.0",
            "grid_template_areas": null,
            "object_position": null,
            "object_fit": null,
            "grid_auto_columns": null,
            "margin": null,
            "display": null,
            "left": null
          }
        },
        "2ac974b80d67441dbce1b3c1a9bad9b4": {
          "model_module": "@jupyter-widgets/controls",
          "model_name": "ProgressStyleModel",
          "model_module_version": "1.5.0",
          "state": {
            "_view_name": "StyleView",
            "_model_name": "ProgressStyleModel",
            "description_width": "",
            "_view_module": "@jupyter-widgets/base",
            "_model_module_version": "1.5.0",
            "_view_count": null,
            "_view_module_version": "1.2.0",
            "bar_color": null,
            "_model_module": "@jupyter-widgets/controls"
          }
        },
        "6982dddc91b9448abbab30eb370ec451": {
          "model_module": "@jupyter-widgets/base",
          "model_name": "LayoutModel",
          "model_module_version": "1.2.0",
          "state": {
            "_view_name": "LayoutView",
            "grid_template_rows": null,
            "right": null,
            "justify_content": null,
            "_view_module": "@jupyter-widgets/base",
            "overflow": null,
            "_model_module_version": "1.2.0",
            "_view_count": null,
            "flex_flow": null,
            "width": null,
            "min_width": null,
            "border": null,
            "align_items": null,
            "bottom": null,
            "_model_module": "@jupyter-widgets/base",
            "top": null,
            "grid_column": null,
            "overflow_y": null,
            "overflow_x": null,
            "grid_auto_flow": null,
            "grid_area": null,
            "grid_template_columns": null,
            "flex": "2",
            "_model_name": "LayoutModel",
            "justify_items": null,
            "grid_row": null,
            "max_height": null,
            "align_content": null,
            "visibility": null,
            "align_self": null,
            "height": null,
            "min_height": null,
            "padding": null,
            "grid_auto_rows": null,
            "grid_gap": null,
            "max_width": null,
            "order": null,
            "_view_module_version": "1.2.0",
            "grid_template_areas": null,
            "object_position": null,
            "object_fit": null,
            "grid_auto_columns": null,
            "margin": null,
            "display": null,
            "left": null
          }
        },
        "33e00a4620684a4582d8bcc7f8e6136f": {
          "model_module": "@jupyter-widgets/controls",
          "model_name": "DescriptionStyleModel",
          "model_module_version": "1.5.0",
          "state": {
            "_view_name": "StyleView",
            "_model_name": "DescriptionStyleModel",
            "description_width": "",
            "_view_module": "@jupyter-widgets/base",
            "_model_module_version": "1.5.0",
            "_view_count": null,
            "_view_module_version": "1.2.0",
            "_model_module": "@jupyter-widgets/controls"
          }
        },
        "53b742433f96461995dbfec19f94ad7a": {
          "model_module": "@jupyter-widgets/base",
          "model_name": "LayoutModel",
          "model_module_version": "1.2.0",
          "state": {
            "_view_name": "LayoutView",
            "grid_template_rows": null,
            "right": null,
            "justify_content": null,
            "_view_module": "@jupyter-widgets/base",
            "overflow": null,
            "_model_module_version": "1.2.0",
            "_view_count": null,
            "flex_flow": null,
            "width": null,
            "min_width": null,
            "border": null,
            "align_items": null,
            "bottom": null,
            "_model_module": "@jupyter-widgets/base",
            "top": null,
            "grid_column": null,
            "overflow_y": null,
            "overflow_x": null,
            "grid_auto_flow": null,
            "grid_area": null,
            "grid_template_columns": null,
            "flex": null,
            "_model_name": "LayoutModel",
            "justify_items": null,
            "grid_row": null,
            "max_height": null,
            "align_content": null,
            "visibility": null,
            "align_self": null,
            "height": null,
            "min_height": null,
            "padding": null,
            "grid_auto_rows": null,
            "grid_gap": null,
            "max_width": null,
            "order": null,
            "_view_module_version": "1.2.0",
            "grid_template_areas": null,
            "object_position": null,
            "object_fit": null,
            "grid_auto_columns": null,
            "margin": null,
            "display": null,
            "left": null
          }
        }
      }
    }
  },
  "cells": [
    {
      "cell_type": "markdown",
      "metadata": {
        "id": "OsiLAdUAivIz"
      },
      "source": [
        "# Exploratory Data Analysis for Mercedes Benz Car Models\n",
        "\n",
        "\n",
        "---\n",
        "\n",
        "<br />\n",
        "This notebook will analyze the important variables which go into determining a Mercedes Benz model automobile. The Exploratory Data Analysis of Mercedes Benz Car Models dataset will be the focus of this notebook. As the name implies, EDA allows us to gain a better understanding of the data. We will study the statistical features of this data, generate visualisations, and test hypotheses throughout this stage.  The notebook will try to answer following Questions from the dataset provided on Kaggle. [click here](https://www.kaggle.com/)\n",
        "\n",
        "<br />\n",
        "\n",
        "\n",
        "\n",
        "1.   What is each variable's distribution?\n",
        "2.   Are there any noticeable outliers? (to be fixed later)\n",
        "3.   Are the maximum and minimum values for the variables reasonable? Do you see any values that appear to be invalid?\n",
        "4.   What is the mean of all the variables? What do the means reveal about your entire dataset?\n",
        "5.    The necessary statistics for analysing a dataset's visual representation.\n",
        "6.    How to extract vital suggestions to address the business challenge from visuals using an in-depth analysis of metrics. \n",
        "7.  Which Mercedes Benz car models are efficient based on Mileage , Miles/gallon (mpg) and prices (in Euros)\n",
        "8.  What are the tax ratings for each Mercedes Benz Car models?\n",
        "9. Which car model would be better choice based on fuel-type and mileage.\n",
        "\n",
        "\n",
        "\n",
        "\n",
        "\n",
        "\n",
        "\n",
        "\n",
        "\n",
        "\n"
      ]
    },
    {
      "cell_type": "markdown",
      "metadata": {
        "id": "1w2Gaa2Jyhcu"
      },
      "source": [
        "## Step 0: Install Libraries\n",
        "\n",
        "---\n",
        "\n",
        "\n",
        "\n",
        "In this step we will be installing required libraries for better comprehension of our dataset. The Exploratory Data Analysis have been performed with the help of Sweetviz library. Sweetviz is an open-source Python package that creates elegant, high-density visuals with just two lines of code to jumpstart EDA (Exploratory Data Analysis). Output is an HTML application that is completely self-contained. "
      ]
    },
    {
      "cell_type": "code",
      "metadata": {
        "id": "q9etIfashoYz",
        "colab": {
          "base_uri": "https://localhost:8080/"
        },
        "outputId": "6937d7eb-cf55-4ab6-9462-466b9ecf5046"
      },
      "source": [
        "!pip install sweetviz"
      ],
      "execution_count": null,
      "outputs": [
        {
          "output_type": "stream",
          "name": "stdout",
          "text": [
            "Requirement already satisfied: sweetviz in /usr/local/lib/python3.7/dist-packages (2.1.3)\n",
            "Requirement already satisfied: pandas!=1.0.0,!=1.0.1,!=1.0.2,>=0.25.3 in /usr/local/lib/python3.7/dist-packages (from sweetviz) (1.1.5)\n",
            "Requirement already satisfied: importlib-resources>=1.2.0 in /usr/local/lib/python3.7/dist-packages (from sweetviz) (5.2.2)\n",
            "Requirement already satisfied: matplotlib>=3.1.3 in /usr/local/lib/python3.7/dist-packages (from sweetviz) (3.2.2)\n",
            "Requirement already satisfied: scipy>=1.3.2 in /usr/local/lib/python3.7/dist-packages (from sweetviz) (1.4.1)\n",
            "Requirement already satisfied: numpy>=1.16.0 in /usr/local/lib/python3.7/dist-packages (from sweetviz) (1.19.5)\n",
            "Requirement already satisfied: jinja2>=2.11.1 in /usr/local/lib/python3.7/dist-packages (from sweetviz) (2.11.3)\n",
            "Requirement already satisfied: tqdm>=4.43.0 in /usr/local/lib/python3.7/dist-packages (from sweetviz) (4.62.3)\n",
            "Requirement already satisfied: zipp>=3.1.0 in /usr/local/lib/python3.7/dist-packages (from importlib-resources>=1.2.0->sweetviz) (3.5.0)\n",
            "Requirement already satisfied: MarkupSafe>=0.23 in /usr/local/lib/python3.7/dist-packages (from jinja2>=2.11.1->sweetviz) (2.0.1)\n",
            "Requirement already satisfied: pyparsing!=2.0.4,!=2.1.2,!=2.1.6,>=2.0.1 in /usr/local/lib/python3.7/dist-packages (from matplotlib>=3.1.3->sweetviz) (2.4.7)\n",
            "Requirement already satisfied: kiwisolver>=1.0.1 in /usr/local/lib/python3.7/dist-packages (from matplotlib>=3.1.3->sweetviz) (1.3.2)\n",
            "Requirement already satisfied: cycler>=0.10 in /usr/local/lib/python3.7/dist-packages (from matplotlib>=3.1.3->sweetviz) (0.10.0)\n",
            "Requirement already satisfied: python-dateutil>=2.1 in /usr/local/lib/python3.7/dist-packages (from matplotlib>=3.1.3->sweetviz) (2.8.2)\n",
            "Requirement already satisfied: six in /usr/local/lib/python3.7/dist-packages (from cycler>=0.10->matplotlib>=3.1.3->sweetviz) (1.15.0)\n",
            "Requirement already satisfied: pytz>=2017.2 in /usr/local/lib/python3.7/dist-packages (from pandas!=1.0.0,!=1.0.1,!=1.0.2,>=0.25.3->sweetviz) (2018.9)\n"
          ]
        }
      ]
    },
    {
      "cell_type": "markdown",
      "metadata": {
        "id": "fBOzkXveiteW"
      },
      "source": [
        "## **Step 1:** Import Libraries\n",
        "\n",
        "---\n",
        "\n",
        "\n",
        "\n",
        "Importing libraries that are required to analyse desired data deductions, visualisations and implementation of data-driven decision for generating an effective business models."
      ]
    },
    {
      "cell_type": "code",
      "metadata": {
        "id": "9ttE9Xzzir5f"
      },
      "source": [
        "import pandas as pd \n",
        "#Pandas is a Python library used for working with data sets. It has functions for analyzing, cleaning, exploring, and manipulating data.\n",
        "\n",
        "import sweetviz as sv \n",
        "#Sweetviz is a Python library that allows users to easily generate exploratory data analysis with just a few lines of code. It also helps you grasp a data overview. \n",
        "\n",
        "import IPython \n",
        "#IPython is a command shell that can be used to perform interactive computing in a variety of computer languages.\n",
        "\n",
        "import numpy as np\n",
        "#numpy is a python library used to perfrom mathematical calculations \n",
        "\n",
        "import matplotlib.pyplot as plt\n",
        "#matplotlib a data visualisation library which depicts visual representation of dataset\n",
        "\n",
        "%matplotlib inline\n",
        "#plotting commands is displayed inline within frontends\n",
        "\n",
        "import seaborn as sns\n",
        "#Seaborn is a data visualization library built on top of matplotlib"
      ],
      "execution_count": null,
      "outputs": []
    },
    {
      "cell_type": "markdown",
      "metadata": {
        "id": "SGSSjpqtKMS6"
      },
      "source": [
        "## **Step 2:**  Read Mercedes Used Car Listing Dataset\n",
        "\n",
        "---\n",
        "\n"
      ]
    },
    {
      "cell_type": "code",
      "metadata": {
        "id": "z5TNjC12jVeL"
      },
      "source": [
        "#Read csv file  and store it into a variable (To provide a file location, upload data to Google Colab or Google Drive. )\n",
        "carmodels = pd.read_csv(r\"/content/merc.csv\") "
      ],
      "execution_count": null,
      "outputs": []
    },
    {
      "cell_type": "code",
      "metadata": {
        "id": "4XvIXyTXwnp_",
        "colab": {
          "base_uri": "https://localhost:8080/",
          "height": 417
        },
        "outputId": "2494547b-c28d-44ae-d30f-d963656efb82"
      },
      "source": [
        "#Display of data file in Google Colab  \n",
        "carmodels"
      ],
      "execution_count": null,
      "outputs": [
        {
          "output_type": "execute_result",
          "data": {
            "text/html": [
              "<div>\n",
              "<style scoped>\n",
              "    .dataframe tbody tr th:only-of-type {\n",
              "        vertical-align: middle;\n",
              "    }\n",
              "\n",
              "    .dataframe tbody tr th {\n",
              "        vertical-align: top;\n",
              "    }\n",
              "\n",
              "    .dataframe thead th {\n",
              "        text-align: right;\n",
              "    }\n",
              "</style>\n",
              "<table border=\"1\" class=\"dataframe\">\n",
              "  <thead>\n",
              "    <tr style=\"text-align: right;\">\n",
              "      <th></th>\n",
              "      <th>model</th>\n",
              "      <th>year</th>\n",
              "      <th>price</th>\n",
              "      <th>transmission</th>\n",
              "      <th>mileage</th>\n",
              "      <th>fuelType</th>\n",
              "      <th>tax</th>\n",
              "      <th>mpg</th>\n",
              "      <th>engineSize</th>\n",
              "    </tr>\n",
              "  </thead>\n",
              "  <tbody>\n",
              "    <tr>\n",
              "      <th>0</th>\n",
              "      <td>A Class</td>\n",
              "      <td>2020</td>\n",
              "      <td>32980</td>\n",
              "      <td>Automatic</td>\n",
              "      <td>606</td>\n",
              "      <td>Petrol</td>\n",
              "      <td>145</td>\n",
              "      <td>35.8</td>\n",
              "      <td>2.0</td>\n",
              "    </tr>\n",
              "    <tr>\n",
              "      <th>1</th>\n",
              "      <td>A Class</td>\n",
              "      <td>2020</td>\n",
              "      <td>26980</td>\n",
              "      <td>Automatic</td>\n",
              "      <td>1000</td>\n",
              "      <td>Diesel</td>\n",
              "      <td>145</td>\n",
              "      <td>62.8</td>\n",
              "      <td>1.5</td>\n",
              "    </tr>\n",
              "    <tr>\n",
              "      <th>2</th>\n",
              "      <td>A Class</td>\n",
              "      <td>2020</td>\n",
              "      <td>28128</td>\n",
              "      <td>Automatic</td>\n",
              "      <td>2563</td>\n",
              "      <td>Petrol</td>\n",
              "      <td>145</td>\n",
              "      <td>47.9</td>\n",
              "      <td>1.3</td>\n",
              "    </tr>\n",
              "    <tr>\n",
              "      <th>3</th>\n",
              "      <td>A Class</td>\n",
              "      <td>2019</td>\n",
              "      <td>23184</td>\n",
              "      <td>Manual</td>\n",
              "      <td>1173</td>\n",
              "      <td>Petrol</td>\n",
              "      <td>145</td>\n",
              "      <td>44.8</td>\n",
              "      <td>1.3</td>\n",
              "    </tr>\n",
              "    <tr>\n",
              "      <th>4</th>\n",
              "      <td>A Class</td>\n",
              "      <td>2017</td>\n",
              "      <td>15787</td>\n",
              "      <td>Automatic</td>\n",
              "      <td>24092</td>\n",
              "      <td>Diesel</td>\n",
              "      <td>20</td>\n",
              "      <td>70.6</td>\n",
              "      <td>2.1</td>\n",
              "    </tr>\n",
              "    <tr>\n",
              "      <th>...</th>\n",
              "      <td>...</td>\n",
              "      <td>...</td>\n",
              "      <td>...</td>\n",
              "      <td>...</td>\n",
              "      <td>...</td>\n",
              "      <td>...</td>\n",
              "      <td>...</td>\n",
              "      <td>...</td>\n",
              "      <td>...</td>\n",
              "    </tr>\n",
              "    <tr>\n",
              "      <th>13110</th>\n",
              "      <td>X-CLASS</td>\n",
              "      <td>2018</td>\n",
              "      <td>27995</td>\n",
              "      <td>Automatic</td>\n",
              "      <td>21000</td>\n",
              "      <td>Diesel</td>\n",
              "      <td>260</td>\n",
              "      <td>35.8</td>\n",
              "      <td>2.3</td>\n",
              "    </tr>\n",
              "    <tr>\n",
              "      <th>13111</th>\n",
              "      <td>X-CLASS</td>\n",
              "      <td>2019</td>\n",
              "      <td>40990</td>\n",
              "      <td>Automatic</td>\n",
              "      <td>22000</td>\n",
              "      <td>Diesel</td>\n",
              "      <td>260</td>\n",
              "      <td>31.4</td>\n",
              "      <td>3.0</td>\n",
              "    </tr>\n",
              "    <tr>\n",
              "      <th>13112</th>\n",
              "      <td>X-CLASS</td>\n",
              "      <td>2017</td>\n",
              "      <td>24990</td>\n",
              "      <td>Automatic</td>\n",
              "      <td>23219</td>\n",
              "      <td>Diesel</td>\n",
              "      <td>140</td>\n",
              "      <td>35.8</td>\n",
              "      <td>2.3</td>\n",
              "    </tr>\n",
              "    <tr>\n",
              "      <th>13113</th>\n",
              "      <td>X-CLASS</td>\n",
              "      <td>2018</td>\n",
              "      <td>21990</td>\n",
              "      <td>Automatic</td>\n",
              "      <td>53000</td>\n",
              "      <td>Diesel</td>\n",
              "      <td>260</td>\n",
              "      <td>35.8</td>\n",
              "      <td>2.3</td>\n",
              "    </tr>\n",
              "    <tr>\n",
              "      <th>13114</th>\n",
              "      <td>X-CLASS</td>\n",
              "      <td>2018</td>\n",
              "      <td>29990</td>\n",
              "      <td>Automatic</td>\n",
              "      <td>42000</td>\n",
              "      <td>Diesel</td>\n",
              "      <td>260</td>\n",
              "      <td>31.4</td>\n",
              "      <td>3.0</td>\n",
              "    </tr>\n",
              "  </tbody>\n",
              "</table>\n",
              "<p>13115 rows × 9 columns</p>\n",
              "</div>"
            ],
            "text/plain": [
              "          model  year  price transmission  ...  fuelType  tax   mpg  engineSize\n",
              "0       A Class  2020  32980    Automatic  ...    Petrol  145  35.8         2.0\n",
              "1       A Class  2020  26980    Automatic  ...    Diesel  145  62.8         1.5\n",
              "2       A Class  2020  28128    Automatic  ...    Petrol  145  47.9         1.3\n",
              "3       A Class  2019  23184       Manual  ...    Petrol  145  44.8         1.3\n",
              "4       A Class  2017  15787    Automatic  ...    Diesel   20  70.6         2.1\n",
              "...         ...   ...    ...          ...  ...       ...  ...   ...         ...\n",
              "13110   X-CLASS  2018  27995    Automatic  ...    Diesel  260  35.8         2.3\n",
              "13111   X-CLASS  2019  40990    Automatic  ...    Diesel  260  31.4         3.0\n",
              "13112   X-CLASS  2017  24990    Automatic  ...    Diesel  140  35.8         2.3\n",
              "13113   X-CLASS  2018  21990    Automatic  ...    Diesel  260  35.8         2.3\n",
              "13114   X-CLASS  2018  29990    Automatic  ...    Diesel  260  31.4         3.0\n",
              "\n",
              "[13115 rows x 9 columns]"
            ]
          },
          "metadata": {},
          "execution_count": 6
        }
      ]
    },
    {
      "cell_type": "markdown",
      "metadata": {
        "id": "p9DYTGrwQ_uq"
      },
      "source": [
        "## **Step 3:** Analyze Mercedes Used Car Listing Dataset"
      ]
    },
    {
      "cell_type": "code",
      "metadata": {
        "id": "22I1ddtj5EzK",
        "colab": {
          "base_uri": "https://localhost:8080/"
        },
        "outputId": "b6281fad-431e-4be8-9c1d-cb6e60e42b81"
      },
      "source": [
        "carmodels.info() #comprehend the data"
      ],
      "execution_count": null,
      "outputs": [
        {
          "output_type": "stream",
          "name": "stdout",
          "text": [
            "<class 'pandas.core.frame.DataFrame'>\n",
            "RangeIndex: 13115 entries, 0 to 13114\n",
            "Data columns (total 9 columns):\n",
            " #   Column        Non-Null Count  Dtype  \n",
            "---  ------        --------------  -----  \n",
            " 0   model         13115 non-null  object \n",
            " 1   year          13115 non-null  int64  \n",
            " 2   price         13115 non-null  int64  \n",
            " 3   transmission  13115 non-null  object \n",
            " 4   mileage       13115 non-null  int64  \n",
            " 5   fuelType      13115 non-null  object \n",
            " 6   tax           13115 non-null  int64  \n",
            " 7   mpg           13115 non-null  float64\n",
            " 8   engineSize    13115 non-null  float64\n",
            "dtypes: float64(2), int64(4), object(3)\n",
            "memory usage: 922.3+ KB\n"
          ]
        }
      ]
    },
    {
      "cell_type": "code",
      "metadata": {
        "id": "a4UbDKZaMbUo",
        "colab": {
          "base_uri": "https://localhost:8080/"
        },
        "outputId": "a3be0438-347b-4330-c8fa-e13e9e39330f"
      },
      "source": [
        "carmodels.isnull().sum() #Learn about the data using this function, which retrieves the null data in a dataset."
      ],
      "execution_count": null,
      "outputs": [
        {
          "output_type": "execute_result",
          "data": {
            "text/plain": [
              "model           0\n",
              "year            0\n",
              "price           0\n",
              "transmission    0\n",
              "mileage         0\n",
              "fuelType        0\n",
              "tax             0\n",
              "mpg             0\n",
              "engineSize      0\n",
              "dtype: int64"
            ]
          },
          "metadata": {},
          "execution_count": 8
        }
      ]
    },
    {
      "cell_type": "code",
      "metadata": {
        "id": "5OqeDbOpMqo3",
        "colab": {
          "base_uri": "https://localhost:8080/"
        },
        "outputId": "66f3fa7d-66a7-41fe-daad-55d2f092056e"
      },
      "source": [
        "#This code snippet determines the unique characters in the dataset\n",
        "for i in carmodels:\n",
        "  print(i)\n",
        "  print(carmodels[i].unique())\n",
        "  print('-----------------------------------')"
      ],
      "execution_count": null,
      "outputs": [
        {
          "output_type": "stream",
          "name": "stdout",
          "text": [
            "model\n",
            "[' A Class' ' B Class' ' C Class' ' CL Class' ' CLA Class' ' CLC Class'\n",
            " ' CLK' ' CLS Class' ' E Class' ' G Class' ' GL Class' ' GLA Class'\n",
            " ' GLB Class' ' GLC Class' ' GLE Class' ' GLS Class' ' M Class' ' R Class'\n",
            " ' S Class' ' SL CLASS' ' SLK' ' V Class' ' X-CLASS']\n",
            "-----------------------------------\n",
            "year\n",
            "[2020 2019 2017 2006 2011 2013 2018 2014 2016 2015 2007 2012 2003 2010\n",
            " 2009 2008 2005 2002 2004 2001 1970 1998 1999 1997 2000]\n",
            "-----------------------------------\n",
            "price\n",
            "[32980 26980 28128 ... 28945 36790 28675]\n",
            "-----------------------------------\n",
            "transmission\n",
            "['Automatic' 'Manual' 'Semi-Auto' 'Other']\n",
            "-----------------------------------\n",
            "mileage\n",
            "[  606  1000  2563 ...  2746 15270 23219]\n",
            "-----------------------------------\n",
            "fuelType\n",
            "['Petrol' 'Diesel' 'Hybrid' 'Other']\n",
            "-----------------------------------\n",
            "tax\n",
            "[145  20 150 160  30 200 165 125   0 240 205 140 325 135 115 195 235 300\n",
            " 555 570 260 580 305 265 230 565 210 290 330 190 315  10 220 185 540 270\n",
            " 255 280 250]\n",
            "-----------------------------------\n",
            "mpg\n",
            "[ 35.8  62.8  47.9  44.8  70.6  56.5  52.3  54.3  65.7  68.9  67.3  28.5\n",
            "  64.2  53.3  40.9  74.3  42.8  45.6  72.4  49.6  51.4  44.1  47.1  41.5\n",
            "  22.6  80.7  30.1  55.4  61.4  78.5  50.4  35.3  36.7   1.1  32.8  58.9\n",
            "  76.4  22.1  24.8  24.6  30.4  57.6  48.7  40.   60.1  37.7  42.2  39.8\n",
            "  57.7  28.8  32.5  46.3 134.5  43.5  23.5  36.2 122.8  34.5  40.4  29.1\n",
            "  28.   33.6  29.7  29.4  34.   31.7  28.3  23.   27.2 217.3  39.2  34.9\n",
            "  38.7  28.2  31.4  32.1  38.2  33.2  21.1  19.   17.8  55.   27.7  37.2\n",
            "  32.9  31.   33.7 176.6 188.3  53.5 201.8  19.8  21.4  25.2  11.   20.5\n",
            "  56.6  21.7  27.4  26.4  21.6  22.4  26.7  29.5  23.9  23.7  20.   42.4\n",
            " 122.9  24.1 100.9  23.3  19.5  22.2  22.3  34.4  30.   30.7  25.5  44.6]\n",
            "-----------------------------------\n",
            "engineSize\n",
            "[2.  1.5 1.3 2.1 1.8 1.6 4.  0.  1.7 1.4 2.2 3.  2.5 6.2 3.5 2.7 4.7 5.4\n",
            " 5.  4.3 2.9 5.5 3.7 6.  3.2 2.3]\n",
            "-----------------------------------\n"
          ]
        }
      ]
    },
    {
      "cell_type": "markdown",
      "metadata": {
        "id": "dF4LCJa9RlVj"
      },
      "source": [
        "## 1)    An Overview of Mercedes Used Car Listing Dataset using Sweetviz library\n",
        "\n",
        "The sub-step incorporates a short overview of the dataset. This specifies specific visuals and statistics to swiftly comprehend data and make efficient data-driven decisions.\n"
      ]
    },
    {
      "cell_type": "code",
      "metadata": {
        "id": "jYw4qz5TRX-6",
        "colab": {
          "base_uri": "https://localhost:8080/",
          "height": 417
        },
        "outputId": "96f7f4ef-70b1-4047-b5b7-8826c3410538"
      },
      "source": [
        "#Now separate x as all columns except model and y as model\n",
        "x = carmodels.drop('model' , axis = 1)\n",
        "y = carmodels['model']\n",
        "\n",
        "#Display x  \n",
        "x"
      ],
      "execution_count": null,
      "outputs": [
        {
          "output_type": "execute_result",
          "data": {
            "text/html": [
              "<div>\n",
              "<style scoped>\n",
              "    .dataframe tbody tr th:only-of-type {\n",
              "        vertical-align: middle;\n",
              "    }\n",
              "\n",
              "    .dataframe tbody tr th {\n",
              "        vertical-align: top;\n",
              "    }\n",
              "\n",
              "    .dataframe thead th {\n",
              "        text-align: right;\n",
              "    }\n",
              "</style>\n",
              "<table border=\"1\" class=\"dataframe\">\n",
              "  <thead>\n",
              "    <tr style=\"text-align: right;\">\n",
              "      <th></th>\n",
              "      <th>year</th>\n",
              "      <th>price</th>\n",
              "      <th>transmission</th>\n",
              "      <th>mileage</th>\n",
              "      <th>fuelType</th>\n",
              "      <th>tax</th>\n",
              "      <th>mpg</th>\n",
              "      <th>engineSize</th>\n",
              "    </tr>\n",
              "  </thead>\n",
              "  <tbody>\n",
              "    <tr>\n",
              "      <th>0</th>\n",
              "      <td>2020</td>\n",
              "      <td>32980</td>\n",
              "      <td>Automatic</td>\n",
              "      <td>606</td>\n",
              "      <td>Petrol</td>\n",
              "      <td>145</td>\n",
              "      <td>35.8</td>\n",
              "      <td>2.0</td>\n",
              "    </tr>\n",
              "    <tr>\n",
              "      <th>1</th>\n",
              "      <td>2020</td>\n",
              "      <td>26980</td>\n",
              "      <td>Automatic</td>\n",
              "      <td>1000</td>\n",
              "      <td>Diesel</td>\n",
              "      <td>145</td>\n",
              "      <td>62.8</td>\n",
              "      <td>1.5</td>\n",
              "    </tr>\n",
              "    <tr>\n",
              "      <th>2</th>\n",
              "      <td>2020</td>\n",
              "      <td>28128</td>\n",
              "      <td>Automatic</td>\n",
              "      <td>2563</td>\n",
              "      <td>Petrol</td>\n",
              "      <td>145</td>\n",
              "      <td>47.9</td>\n",
              "      <td>1.3</td>\n",
              "    </tr>\n",
              "    <tr>\n",
              "      <th>3</th>\n",
              "      <td>2019</td>\n",
              "      <td>23184</td>\n",
              "      <td>Manual</td>\n",
              "      <td>1173</td>\n",
              "      <td>Petrol</td>\n",
              "      <td>145</td>\n",
              "      <td>44.8</td>\n",
              "      <td>1.3</td>\n",
              "    </tr>\n",
              "    <tr>\n",
              "      <th>4</th>\n",
              "      <td>2017</td>\n",
              "      <td>15787</td>\n",
              "      <td>Automatic</td>\n",
              "      <td>24092</td>\n",
              "      <td>Diesel</td>\n",
              "      <td>20</td>\n",
              "      <td>70.6</td>\n",
              "      <td>2.1</td>\n",
              "    </tr>\n",
              "    <tr>\n",
              "      <th>...</th>\n",
              "      <td>...</td>\n",
              "      <td>...</td>\n",
              "      <td>...</td>\n",
              "      <td>...</td>\n",
              "      <td>...</td>\n",
              "      <td>...</td>\n",
              "      <td>...</td>\n",
              "      <td>...</td>\n",
              "    </tr>\n",
              "    <tr>\n",
              "      <th>13110</th>\n",
              "      <td>2018</td>\n",
              "      <td>27995</td>\n",
              "      <td>Automatic</td>\n",
              "      <td>21000</td>\n",
              "      <td>Diesel</td>\n",
              "      <td>260</td>\n",
              "      <td>35.8</td>\n",
              "      <td>2.3</td>\n",
              "    </tr>\n",
              "    <tr>\n",
              "      <th>13111</th>\n",
              "      <td>2019</td>\n",
              "      <td>40990</td>\n",
              "      <td>Automatic</td>\n",
              "      <td>22000</td>\n",
              "      <td>Diesel</td>\n",
              "      <td>260</td>\n",
              "      <td>31.4</td>\n",
              "      <td>3.0</td>\n",
              "    </tr>\n",
              "    <tr>\n",
              "      <th>13112</th>\n",
              "      <td>2017</td>\n",
              "      <td>24990</td>\n",
              "      <td>Automatic</td>\n",
              "      <td>23219</td>\n",
              "      <td>Diesel</td>\n",
              "      <td>140</td>\n",
              "      <td>35.8</td>\n",
              "      <td>2.3</td>\n",
              "    </tr>\n",
              "    <tr>\n",
              "      <th>13113</th>\n",
              "      <td>2018</td>\n",
              "      <td>21990</td>\n",
              "      <td>Automatic</td>\n",
              "      <td>53000</td>\n",
              "      <td>Diesel</td>\n",
              "      <td>260</td>\n",
              "      <td>35.8</td>\n",
              "      <td>2.3</td>\n",
              "    </tr>\n",
              "    <tr>\n",
              "      <th>13114</th>\n",
              "      <td>2018</td>\n",
              "      <td>29990</td>\n",
              "      <td>Automatic</td>\n",
              "      <td>42000</td>\n",
              "      <td>Diesel</td>\n",
              "      <td>260</td>\n",
              "      <td>31.4</td>\n",
              "      <td>3.0</td>\n",
              "    </tr>\n",
              "  </tbody>\n",
              "</table>\n",
              "<p>13115 rows × 8 columns</p>\n",
              "</div>"
            ],
            "text/plain": [
              "       year  price transmission  mileage fuelType  tax   mpg  engineSize\n",
              "0      2020  32980    Automatic      606   Petrol  145  35.8         2.0\n",
              "1      2020  26980    Automatic     1000   Diesel  145  62.8         1.5\n",
              "2      2020  28128    Automatic     2563   Petrol  145  47.9         1.3\n",
              "3      2019  23184       Manual     1173   Petrol  145  44.8         1.3\n",
              "4      2017  15787    Automatic    24092   Diesel   20  70.6         2.1\n",
              "...     ...    ...          ...      ...      ...  ...   ...         ...\n",
              "13110  2018  27995    Automatic    21000   Diesel  260  35.8         2.3\n",
              "13111  2019  40990    Automatic    22000   Diesel  260  31.4         3.0\n",
              "13112  2017  24990    Automatic    23219   Diesel  140  35.8         2.3\n",
              "13113  2018  21990    Automatic    53000   Diesel  260  35.8         2.3\n",
              "13114  2018  29990    Automatic    42000   Diesel  260  31.4         3.0\n",
              "\n",
              "[13115 rows x 8 columns]"
            ]
          },
          "metadata": {},
          "execution_count": 10
        }
      ]
    },
    {
      "cell_type": "code",
      "metadata": {
        "id": "fcf8jzc4RYI4",
        "colab": {
          "base_uri": "https://localhost:8080/",
          "height": 66,
          "referenced_widgets": [
            "82732b06004b4b5cba3544dbf61d7d62",
            "70d01f45543743a090bb8de916869df4",
            "28932db4efff415a926a948868aec761",
            "2e5034028a504e5dbb4f3a05569b3c37",
            "bc93ad87916348d9a91c329b97ab4366",
            "b9ca4069d2164800b830dd7c0cd7f846",
            "359e0b772d254065b221f30a5111291e",
            "2ac974b80d67441dbce1b3c1a9bad9b4",
            "6982dddc91b9448abbab30eb370ec451",
            "33e00a4620684a4582d8bcc7f8e6136f",
            "53b742433f96461995dbfec19f94ad7a"
          ]
        },
        "outputId": "de9d3ec8-93a1-4f99-c6d1-501f6de94a8d"
      },
      "source": [
        "#Analyze the entire dataset using 3 lines of code\n",
        "#Sweetviz library have been imported as sv\n",
        "\n",
        "analyze_report = sv.analyze(carmodels)\n",
        "analyze_report.show_html('analyze.html' , open_browser = False)"
      ],
      "execution_count": null,
      "outputs": [
        {
          "output_type": "display_data",
          "data": {
            "application/vnd.jupyter.widget-view+json": {
              "model_id": "82732b06004b4b5cba3544dbf61d7d62",
              "version_minor": 0,
              "version_major": 2
            },
            "text/plain": [
              "                                             |          | [  0%]   00:00 -> (? left)"
            ]
          },
          "metadata": {}
        },
        {
          "output_type": "stream",
          "name": "stdout",
          "text": [
            "Report analyze.html was generated.\n"
          ]
        }
      ]
    },
    {
      "cell_type": "code",
      "metadata": {
        "id": "utLNDDGDO0m4"
      },
      "source": [
        "#The IPython library has been added.\n",
        "\n",
        "IPython.display.HTML('analyze.html')\n",
        "\n",
        "#To display and save sweetviz visualisation as html file."
      ],
      "execution_count": null,
      "outputs": []
    },
    {
      "cell_type": "markdown",
      "metadata": {
        "id": "8_-T17BpjKTn"
      },
      "source": [
        "## 2) The Deduction show\n",
        "\n",
        "---\n",
        "\n",
        "\n",
        "\n",
        "This is an imortant step in Exploratory data analysis, this step can retrieve the most innovative and intriguing deductions to make data-driven decisions. \n",
        "\n",
        "\n"
      ]
    },
    {
      "cell_type": "code",
      "metadata": {
        "id": "DUANrKnWNUIe",
        "colab": {
          "base_uri": "https://localhost:8080/",
          "height": 417
        },
        "outputId": "db64fbad-4fdf-4752-bc6e-7444ca39c02c"
      },
      "source": [
        "carmodels #load the dataset"
      ],
      "execution_count": null,
      "outputs": [
        {
          "output_type": "execute_result",
          "data": {
            "text/html": [
              "<div>\n",
              "<style scoped>\n",
              "    .dataframe tbody tr th:only-of-type {\n",
              "        vertical-align: middle;\n",
              "    }\n",
              "\n",
              "    .dataframe tbody tr th {\n",
              "        vertical-align: top;\n",
              "    }\n",
              "\n",
              "    .dataframe thead th {\n",
              "        text-align: right;\n",
              "    }\n",
              "</style>\n",
              "<table border=\"1\" class=\"dataframe\">\n",
              "  <thead>\n",
              "    <tr style=\"text-align: right;\">\n",
              "      <th></th>\n",
              "      <th>model</th>\n",
              "      <th>year</th>\n",
              "      <th>price</th>\n",
              "      <th>transmission</th>\n",
              "      <th>mileage</th>\n",
              "      <th>fuelType</th>\n",
              "      <th>tax</th>\n",
              "      <th>mpg</th>\n",
              "      <th>engineSize</th>\n",
              "    </tr>\n",
              "  </thead>\n",
              "  <tbody>\n",
              "    <tr>\n",
              "      <th>0</th>\n",
              "      <td>A Class</td>\n",
              "      <td>2020</td>\n",
              "      <td>32980</td>\n",
              "      <td>Automatic</td>\n",
              "      <td>606</td>\n",
              "      <td>Petrol</td>\n",
              "      <td>145</td>\n",
              "      <td>35.8</td>\n",
              "      <td>2.0</td>\n",
              "    </tr>\n",
              "    <tr>\n",
              "      <th>1</th>\n",
              "      <td>A Class</td>\n",
              "      <td>2020</td>\n",
              "      <td>26980</td>\n",
              "      <td>Automatic</td>\n",
              "      <td>1000</td>\n",
              "      <td>Diesel</td>\n",
              "      <td>145</td>\n",
              "      <td>62.8</td>\n",
              "      <td>1.5</td>\n",
              "    </tr>\n",
              "    <tr>\n",
              "      <th>2</th>\n",
              "      <td>A Class</td>\n",
              "      <td>2020</td>\n",
              "      <td>28128</td>\n",
              "      <td>Automatic</td>\n",
              "      <td>2563</td>\n",
              "      <td>Petrol</td>\n",
              "      <td>145</td>\n",
              "      <td>47.9</td>\n",
              "      <td>1.3</td>\n",
              "    </tr>\n",
              "    <tr>\n",
              "      <th>3</th>\n",
              "      <td>A Class</td>\n",
              "      <td>2019</td>\n",
              "      <td>23184</td>\n",
              "      <td>Manual</td>\n",
              "      <td>1173</td>\n",
              "      <td>Petrol</td>\n",
              "      <td>145</td>\n",
              "      <td>44.8</td>\n",
              "      <td>1.3</td>\n",
              "    </tr>\n",
              "    <tr>\n",
              "      <th>4</th>\n",
              "      <td>A Class</td>\n",
              "      <td>2017</td>\n",
              "      <td>15787</td>\n",
              "      <td>Automatic</td>\n",
              "      <td>24092</td>\n",
              "      <td>Diesel</td>\n",
              "      <td>20</td>\n",
              "      <td>70.6</td>\n",
              "      <td>2.1</td>\n",
              "    </tr>\n",
              "    <tr>\n",
              "      <th>...</th>\n",
              "      <td>...</td>\n",
              "      <td>...</td>\n",
              "      <td>...</td>\n",
              "      <td>...</td>\n",
              "      <td>...</td>\n",
              "      <td>...</td>\n",
              "      <td>...</td>\n",
              "      <td>...</td>\n",
              "      <td>...</td>\n",
              "    </tr>\n",
              "    <tr>\n",
              "      <th>13110</th>\n",
              "      <td>X-CLASS</td>\n",
              "      <td>2018</td>\n",
              "      <td>27995</td>\n",
              "      <td>Automatic</td>\n",
              "      <td>21000</td>\n",
              "      <td>Diesel</td>\n",
              "      <td>260</td>\n",
              "      <td>35.8</td>\n",
              "      <td>2.3</td>\n",
              "    </tr>\n",
              "    <tr>\n",
              "      <th>13111</th>\n",
              "      <td>X-CLASS</td>\n",
              "      <td>2019</td>\n",
              "      <td>40990</td>\n",
              "      <td>Automatic</td>\n",
              "      <td>22000</td>\n",
              "      <td>Diesel</td>\n",
              "      <td>260</td>\n",
              "      <td>31.4</td>\n",
              "      <td>3.0</td>\n",
              "    </tr>\n",
              "    <tr>\n",
              "      <th>13112</th>\n",
              "      <td>X-CLASS</td>\n",
              "      <td>2017</td>\n",
              "      <td>24990</td>\n",
              "      <td>Automatic</td>\n",
              "      <td>23219</td>\n",
              "      <td>Diesel</td>\n",
              "      <td>140</td>\n",
              "      <td>35.8</td>\n",
              "      <td>2.3</td>\n",
              "    </tr>\n",
              "    <tr>\n",
              "      <th>13113</th>\n",
              "      <td>X-CLASS</td>\n",
              "      <td>2018</td>\n",
              "      <td>21990</td>\n",
              "      <td>Automatic</td>\n",
              "      <td>53000</td>\n",
              "      <td>Diesel</td>\n",
              "      <td>260</td>\n",
              "      <td>35.8</td>\n",
              "      <td>2.3</td>\n",
              "    </tr>\n",
              "    <tr>\n",
              "      <th>13114</th>\n",
              "      <td>X-CLASS</td>\n",
              "      <td>2018</td>\n",
              "      <td>29990</td>\n",
              "      <td>Automatic</td>\n",
              "      <td>42000</td>\n",
              "      <td>Diesel</td>\n",
              "      <td>260</td>\n",
              "      <td>31.4</td>\n",
              "      <td>3.0</td>\n",
              "    </tr>\n",
              "  </tbody>\n",
              "</table>\n",
              "<p>13115 rows × 9 columns</p>\n",
              "</div>"
            ],
            "text/plain": [
              "          model  year  price transmission  ...  fuelType  tax   mpg  engineSize\n",
              "0       A Class  2020  32980    Automatic  ...    Petrol  145  35.8         2.0\n",
              "1       A Class  2020  26980    Automatic  ...    Diesel  145  62.8         1.5\n",
              "2       A Class  2020  28128    Automatic  ...    Petrol  145  47.9         1.3\n",
              "3       A Class  2019  23184       Manual  ...    Petrol  145  44.8         1.3\n",
              "4       A Class  2017  15787    Automatic  ...    Diesel   20  70.6         2.1\n",
              "...         ...   ...    ...          ...  ...       ...  ...   ...         ...\n",
              "13110   X-CLASS  2018  27995    Automatic  ...    Diesel  260  35.8         2.3\n",
              "13111   X-CLASS  2019  40990    Automatic  ...    Diesel  260  31.4         3.0\n",
              "13112   X-CLASS  2017  24990    Automatic  ...    Diesel  140  35.8         2.3\n",
              "13113   X-CLASS  2018  21990    Automatic  ...    Diesel  260  35.8         2.3\n",
              "13114   X-CLASS  2018  29990    Automatic  ...    Diesel  260  31.4         3.0\n",
              "\n",
              "[13115 rows x 9 columns]"
            ]
          },
          "metadata": {},
          "execution_count": 13
        }
      ]
    },
    {
      "cell_type": "code",
      "metadata": {
        "id": "q1NL2CsJdhXK",
        "colab": {
          "base_uri": "https://localhost:8080/",
          "height": 788
        },
        "outputId": "6c111c73-1874-496d-88ae-08e0dfc47af8"
      },
      "source": [
        "carmodels.groupby(['model']).count() #count the number of similar mercedes benz models "
      ],
      "execution_count": null,
      "outputs": [
        {
          "output_type": "execute_result",
          "data": {
            "text/html": [
              "<div>\n",
              "<style scoped>\n",
              "    .dataframe tbody tr th:only-of-type {\n",
              "        vertical-align: middle;\n",
              "    }\n",
              "\n",
              "    .dataframe tbody tr th {\n",
              "        vertical-align: top;\n",
              "    }\n",
              "\n",
              "    .dataframe thead th {\n",
              "        text-align: right;\n",
              "    }\n",
              "</style>\n",
              "<table border=\"1\" class=\"dataframe\">\n",
              "  <thead>\n",
              "    <tr style=\"text-align: right;\">\n",
              "      <th></th>\n",
              "      <th>year</th>\n",
              "      <th>price</th>\n",
              "      <th>transmission</th>\n",
              "      <th>mileage</th>\n",
              "      <th>fuelType</th>\n",
              "      <th>tax</th>\n",
              "      <th>mpg</th>\n",
              "      <th>engineSize</th>\n",
              "    </tr>\n",
              "    <tr>\n",
              "      <th>model</th>\n",
              "      <th></th>\n",
              "      <th></th>\n",
              "      <th></th>\n",
              "      <th></th>\n",
              "      <th></th>\n",
              "      <th></th>\n",
              "      <th></th>\n",
              "      <th></th>\n",
              "    </tr>\n",
              "  </thead>\n",
              "  <tbody>\n",
              "    <tr>\n",
              "      <th>A Class</th>\n",
              "      <td>2561</td>\n",
              "      <td>2561</td>\n",
              "      <td>2561</td>\n",
              "      <td>2561</td>\n",
              "      <td>2561</td>\n",
              "      <td>2561</td>\n",
              "      <td>2561</td>\n",
              "      <td>2561</td>\n",
              "    </tr>\n",
              "    <tr>\n",
              "      <th>B Class</th>\n",
              "      <td>591</td>\n",
              "      <td>591</td>\n",
              "      <td>591</td>\n",
              "      <td>591</td>\n",
              "      <td>591</td>\n",
              "      <td>591</td>\n",
              "      <td>591</td>\n",
              "      <td>591</td>\n",
              "    </tr>\n",
              "    <tr>\n",
              "      <th>C Class</th>\n",
              "      <td>3747</td>\n",
              "      <td>3747</td>\n",
              "      <td>3747</td>\n",
              "      <td>3747</td>\n",
              "      <td>3747</td>\n",
              "      <td>3747</td>\n",
              "      <td>3747</td>\n",
              "      <td>3747</td>\n",
              "    </tr>\n",
              "    <tr>\n",
              "      <th>CL Class</th>\n",
              "      <td>511</td>\n",
              "      <td>511</td>\n",
              "      <td>511</td>\n",
              "      <td>511</td>\n",
              "      <td>511</td>\n",
              "      <td>511</td>\n",
              "      <td>511</td>\n",
              "      <td>511</td>\n",
              "    </tr>\n",
              "    <tr>\n",
              "      <th>CLA Class</th>\n",
              "      <td>86</td>\n",
              "      <td>86</td>\n",
              "      <td>86</td>\n",
              "      <td>86</td>\n",
              "      <td>86</td>\n",
              "      <td>86</td>\n",
              "      <td>86</td>\n",
              "      <td>86</td>\n",
              "    </tr>\n",
              "    <tr>\n",
              "      <th>CLC Class</th>\n",
              "      <td>3</td>\n",
              "      <td>3</td>\n",
              "      <td>3</td>\n",
              "      <td>3</td>\n",
              "      <td>3</td>\n",
              "      <td>3</td>\n",
              "      <td>3</td>\n",
              "      <td>3</td>\n",
              "    </tr>\n",
              "    <tr>\n",
              "      <th>CLK</th>\n",
              "      <td>7</td>\n",
              "      <td>7</td>\n",
              "      <td>7</td>\n",
              "      <td>7</td>\n",
              "      <td>7</td>\n",
              "      <td>7</td>\n",
              "      <td>7</td>\n",
              "      <td>7</td>\n",
              "    </tr>\n",
              "    <tr>\n",
              "      <th>CLS Class</th>\n",
              "      <td>237</td>\n",
              "      <td>237</td>\n",
              "      <td>237</td>\n",
              "      <td>237</td>\n",
              "      <td>237</td>\n",
              "      <td>237</td>\n",
              "      <td>237</td>\n",
              "      <td>237</td>\n",
              "    </tr>\n",
              "    <tr>\n",
              "      <th>E Class</th>\n",
              "      <td>1953</td>\n",
              "      <td>1953</td>\n",
              "      <td>1953</td>\n",
              "      <td>1953</td>\n",
              "      <td>1953</td>\n",
              "      <td>1953</td>\n",
              "      <td>1953</td>\n",
              "      <td>1953</td>\n",
              "    </tr>\n",
              "    <tr>\n",
              "      <th>G Class</th>\n",
              "      <td>15</td>\n",
              "      <td>15</td>\n",
              "      <td>15</td>\n",
              "      <td>15</td>\n",
              "      <td>15</td>\n",
              "      <td>15</td>\n",
              "      <td>15</td>\n",
              "      <td>15</td>\n",
              "    </tr>\n",
              "    <tr>\n",
              "      <th>GL Class</th>\n",
              "      <td>121</td>\n",
              "      <td>121</td>\n",
              "      <td>121</td>\n",
              "      <td>121</td>\n",
              "      <td>121</td>\n",
              "      <td>121</td>\n",
              "      <td>121</td>\n",
              "      <td>121</td>\n",
              "    </tr>\n",
              "    <tr>\n",
              "      <th>GLA Class</th>\n",
              "      <td>847</td>\n",
              "      <td>847</td>\n",
              "      <td>847</td>\n",
              "      <td>847</td>\n",
              "      <td>847</td>\n",
              "      <td>847</td>\n",
              "      <td>847</td>\n",
              "      <td>847</td>\n",
              "    </tr>\n",
              "    <tr>\n",
              "      <th>GLB Class</th>\n",
              "      <td>19</td>\n",
              "      <td>19</td>\n",
              "      <td>19</td>\n",
              "      <td>19</td>\n",
              "      <td>19</td>\n",
              "      <td>19</td>\n",
              "      <td>19</td>\n",
              "      <td>19</td>\n",
              "    </tr>\n",
              "    <tr>\n",
              "      <th>GLC Class</th>\n",
              "      <td>960</td>\n",
              "      <td>960</td>\n",
              "      <td>960</td>\n",
              "      <td>960</td>\n",
              "      <td>960</td>\n",
              "      <td>960</td>\n",
              "      <td>960</td>\n",
              "      <td>960</td>\n",
              "    </tr>\n",
              "    <tr>\n",
              "      <th>GLE Class</th>\n",
              "      <td>461</td>\n",
              "      <td>461</td>\n",
              "      <td>461</td>\n",
              "      <td>461</td>\n",
              "      <td>461</td>\n",
              "      <td>461</td>\n",
              "      <td>461</td>\n",
              "      <td>461</td>\n",
              "    </tr>\n",
              "    <tr>\n",
              "      <th>GLS Class</th>\n",
              "      <td>74</td>\n",
              "      <td>74</td>\n",
              "      <td>74</td>\n",
              "      <td>74</td>\n",
              "      <td>74</td>\n",
              "      <td>74</td>\n",
              "      <td>74</td>\n",
              "      <td>74</td>\n",
              "    </tr>\n",
              "    <tr>\n",
              "      <th>M Class</th>\n",
              "      <td>79</td>\n",
              "      <td>79</td>\n",
              "      <td>79</td>\n",
              "      <td>79</td>\n",
              "      <td>79</td>\n",
              "      <td>79</td>\n",
              "      <td>79</td>\n",
              "      <td>79</td>\n",
              "    </tr>\n",
              "    <tr>\n",
              "      <th>R Class</th>\n",
              "      <td>2</td>\n",
              "      <td>2</td>\n",
              "      <td>2</td>\n",
              "      <td>2</td>\n",
              "      <td>2</td>\n",
              "      <td>2</td>\n",
              "      <td>2</td>\n",
              "      <td>2</td>\n",
              "    </tr>\n",
              "    <tr>\n",
              "      <th>S Class</th>\n",
              "      <td>197</td>\n",
              "      <td>197</td>\n",
              "      <td>197</td>\n",
              "      <td>197</td>\n",
              "      <td>197</td>\n",
              "      <td>197</td>\n",
              "      <td>197</td>\n",
              "      <td>197</td>\n",
              "    </tr>\n",
              "    <tr>\n",
              "      <th>SL CLASS</th>\n",
              "      <td>260</td>\n",
              "      <td>260</td>\n",
              "      <td>260</td>\n",
              "      <td>260</td>\n",
              "      <td>260</td>\n",
              "      <td>260</td>\n",
              "      <td>260</td>\n",
              "      <td>260</td>\n",
              "    </tr>\n",
              "    <tr>\n",
              "      <th>SLK</th>\n",
              "      <td>95</td>\n",
              "      <td>95</td>\n",
              "      <td>95</td>\n",
              "      <td>95</td>\n",
              "      <td>95</td>\n",
              "      <td>95</td>\n",
              "      <td>95</td>\n",
              "      <td>95</td>\n",
              "    </tr>\n",
              "    <tr>\n",
              "      <th>V Class</th>\n",
              "      <td>207</td>\n",
              "      <td>207</td>\n",
              "      <td>207</td>\n",
              "      <td>207</td>\n",
              "      <td>207</td>\n",
              "      <td>207</td>\n",
              "      <td>207</td>\n",
              "      <td>207</td>\n",
              "    </tr>\n",
              "    <tr>\n",
              "      <th>X-CLASS</th>\n",
              "      <td>82</td>\n",
              "      <td>82</td>\n",
              "      <td>82</td>\n",
              "      <td>82</td>\n",
              "      <td>82</td>\n",
              "      <td>82</td>\n",
              "      <td>82</td>\n",
              "      <td>82</td>\n",
              "    </tr>\n",
              "  </tbody>\n",
              "</table>\n",
              "</div>"
            ],
            "text/plain": [
              "            year  price  transmission  ...   tax   mpg  engineSize\n",
              "model                                  ...                        \n",
              " A Class    2561   2561          2561  ...  2561  2561        2561\n",
              " B Class     591    591           591  ...   591   591         591\n",
              " C Class    3747   3747          3747  ...  3747  3747        3747\n",
              " CL Class    511    511           511  ...   511   511         511\n",
              " CLA Class    86     86            86  ...    86    86          86\n",
              " CLC Class     3      3             3  ...     3     3           3\n",
              " CLK           7      7             7  ...     7     7           7\n",
              " CLS Class   237    237           237  ...   237   237         237\n",
              " E Class    1953   1953          1953  ...  1953  1953        1953\n",
              " G Class      15     15            15  ...    15    15          15\n",
              " GL Class    121    121           121  ...   121   121         121\n",
              " GLA Class   847    847           847  ...   847   847         847\n",
              " GLB Class    19     19            19  ...    19    19          19\n",
              " GLC Class   960    960           960  ...   960   960         960\n",
              " GLE Class   461    461           461  ...   461   461         461\n",
              " GLS Class    74     74            74  ...    74    74          74\n",
              " M Class      79     79            79  ...    79    79          79\n",
              " R Class       2      2             2  ...     2     2           2\n",
              " S Class     197    197           197  ...   197   197         197\n",
              " SL CLASS    260    260           260  ...   260   260         260\n",
              " SLK          95     95            95  ...    95    95          95\n",
              " V Class     207    207           207  ...   207   207         207\n",
              " X-CLASS      82     82            82  ...    82    82          82\n",
              "\n",
              "[23 rows x 8 columns]"
            ]
          },
          "metadata": {},
          "execution_count": 14
        }
      ]
    },
    {
      "cell_type": "markdown",
      "metadata": {
        "id": "GCxfrSP3uNX1"
      },
      "source": [
        "##  Visualisations and Analysis\n",
        "\n",
        "---\n",
        "\n"
      ]
    },
    {
      "cell_type": "markdown",
      "metadata": {
        "id": "oejcUozu_dAW"
      },
      "source": [
        "## A) Model v/s Miles per gallon "
      ]
    },
    {
      "cell_type": "code",
      "metadata": {
        "id": "KA9jf-RIEKdF"
      },
      "source": [
        "model_mpg_data = carmodels.groupby('model')['mpg'].sum().sort_values()\n",
        "df = pd.DataFrame(model_mpg_data)\n",
        "df.to_excel(\"model_mpg_data.xlsx\")"
      ],
      "execution_count": null,
      "outputs": []
    },
    {
      "cell_type": "code",
      "metadata": {
        "id": "q2uXItt-EPmc",
        "colab": {
          "base_uri": "https://localhost:8080/",
          "height": 518
        },
        "outputId": "c3d28557-8103-4d56-9ba1-7862e59200cc"
      },
      "source": [
        "#load the data in group for visual representation of the data\n",
        "#Take the mean of Miles per gallon (mpg) attribute of the data\n",
        "#sort the values from higher to lower\n",
        "model_mpg = carmodels.groupby('model')['mpg'].mean().sort_values() \n",
        "\n",
        "#load matplotlib and seaborn library to generate visual graphs\n",
        "plt.figure(figsize=(15,5))\n",
        "sns.lineplot(x=model_mpg.index , y=model_mpg )\n",
        "\n",
        "#rotate the labels on x-axis by 70 degrees for better visibility of the data\n",
        "plt.xticks(rotation=70)\n",
        "\n",
        "#Graph title\n",
        "plt.title('Model v/s Miles/gallons graph')\n",
        "\n",
        "#save the image in png format \n",
        "plt.savefig(\"model_mpg.png\")"
      ],
      "execution_count": null,
      "outputs": [
        {
          "output_type": "display_data",
          "data": {
            "image/png": "[encoded data removed]",
            "text/plain": [
              "<Figure size 1500x500 with 1 Axes>"
            ]
          },
          "metadata": {}
        }
      ]
    },
    {
      "cell_type": "markdown",
      "metadata": {
        "id": "_EqGip5Iq9Va"
      },
      "source": [
        "\n",
        "## **Insights**\n",
        "\n",
        "---\n",
        "\n",
        "\n",
        "\n",
        "\n",
        "<br>\n",
        "The objective for using the mean of all data is to show overall performance of automobile models in terms of miles per gallon. We may derive the following assertions from the data provided:\n",
        "\n",
        "<br>\n",
        "\n",
        "\n",
        "1.   There are about **15** automobile models that get a higher miles per gallon than the average.\n",
        "2.    In terms of miles per gallon, the E class vehicle outperforms the G class model by more than **5.4 percent**.  \n",
        "3. When the miles/gallon mean value is greater, the automobile can drive **further** than when the mean value is lower. \n",
        "4. It may also be deduced that the mercedes automobile models which are above average value **emits less** carbon dioxide when compared to other models.\n",
        "\n"
      ]
    },
    {
      "cell_type": "markdown",
      "metadata": {
        "id": "_56Eu1TK_sRe"
      },
      "source": [
        "## B) Model v/s Mileage "
      ]
    },
    {
      "cell_type": "code",
      "metadata": {
        "id": "-xD8R2fd3hnf"
      },
      "source": [
        "model_mileage_data = carmodels.groupby('model')['mileage'].sum().sort_values()  #mean of all unique model's mileage (Distance travelled)\n",
        "df = pd.DataFrame(model_mileage_data)\n",
        "df.to_excel(\"model_mileage_data.xlsx\")      "
      ],
      "execution_count": null,
      "outputs": []
    },
    {
      "cell_type": "code",
      "metadata": {
        "id": "fAqAJxZrFKwC",
        "colab": {
          "base_uri": "https://localhost:8080/",
          "height": 518
        },
        "outputId": "66a25fa1-dc8e-46d7-be33-bea09c7434b2"
      },
      "source": [
        "#load the data in group for visual representation of the data\n",
        "#Take the mean of Mileage (Distance travelled) attribute of the data\n",
        "#sort the values from higher to lower\n",
        "model_mileage = carmodels.groupby('model')['mileage'].mean().sort_values()\n",
        "\n",
        "#load matplotlib and seaborn library to generate visual graphs\n",
        "plt.figure(figsize=(15,5))\n",
        "pal = sns.color_palette(\"Blues\", len(model_mileage))\n",
        "sns.lineplot(x=model_mileage.index , y=model_mileage , palette=pal)\n",
        "\n",
        "#rotate the labels on x-axis by 70 degrees for better visibility of the data\n",
        "plt.xticks(rotation=70)\n",
        "\n",
        "#Graph title\n",
        "plt.title('Mode v/s Mileage graph')\n",
        "\n",
        "#save the image in png format \n",
        "plt.savefig(\"model_mileage.png\")"
      ],
      "execution_count": null,
      "outputs": [
        {
          "output_type": "display_data",
          "data": {
            "image/png": "[encoded data removed]",
            "text/plain": [
              "<Figure size 1500x500 with 1 Axes>"
            ]
          },
          "metadata": {}
        }
      ]
    },
    {
      "cell_type": "markdown",
      "metadata": {
        "id": "QPARFhb6_lS0"
      },
      "source": [
        "## Insights \n",
        "\n",
        "\n",
        "---\n",
        "\n",
        "\n",
        "1.   According to the median of the statistics, more than 11 Mercedes model automobiles had better mileage performance.\n",
        "2.   However, when compared to the median value of our data, the Mercedes CLK model has approximately **12.51%** higher miles, and altogether, the CLK model delivers **15.67%** mileage to the dataset.\n",
        "3.  Subsequently, an overall fuel consumption of CLK model is 3265.30 gallons at 33.6 miles per gallon. \n",
        "4.  Hence, we can deduce that car models with higher mpg value has following applications \n",
        "\n",
        "\n",
        "\n",
        "> - Fuel consumption is reduced.\n",
        "\n",
        "\n",
        ">  - Lower Maintenance Costs\n",
        "\n",
        "\n",
        "> - Long-distance performance is improved.\n",
        "\n",
        "\n",
        "\n",
        "\n",
        "\n",
        "\n",
        "\n",
        "\n",
        "\n",
        "\n"
      ]
    },
    {
      "cell_type": "markdown",
      "metadata": {
        "id": "SZq-2ZG5emP6"
      },
      "source": [
        "## C)  Model v/s Price "
      ]
    },
    {
      "cell_type": "code",
      "metadata": {
        "id": "cO8roelM-xht"
      },
      "source": [
        "model_price_data = carmodels.groupby(['year'])['price'].sum() # summation of all unique model's prices (in Euros) \n",
        "df = pd.DataFrame(model_price_data)\n",
        "df.to_excel(\"model_price_data_data.xlsx\") "
      ],
      "execution_count": null,
      "outputs": []
    },
    {
      "cell_type": "code",
      "metadata": {
        "id": "n0ifzdEuqYrd",
        "colab": {
          "base_uri": "https://localhost:8080/",
          "height": 518
        },
        "outputId": "2ef1334f-7a2f-4edc-be39-d8be9623bf69"
      },
      "source": [
        "#load the data in group for visual representation of the data\n",
        "#Take the sum of price attribute of the data\n",
        "#sort the values from higher to lower\n",
        "model_price = carmodels.groupby('model')['price'].sum().sort_values()\n",
        "\n",
        "#load matplotlib and seaborn library to generate visual graphs\n",
        "plt.figure(figsize=(15,5))\n",
        "pal = sns.color_palette(\"Blues\", len(model_price))\n",
        "sns.lineplot(x=model_price.index , y=model_price , palette=pal)\n",
        "\n",
        "#rotate the labels on x-axis by 70 degrees for better visibility of the data\n",
        "plt.xticks(rotation=70)\n",
        "\n",
        "#Graph title\n",
        "plt.title('Mode v/s Price graph')\n",
        "\n",
        "#save the image in png format \n",
        "plt.savefig(\"model_price.png\")"
      ],
      "execution_count": null,
      "outputs": [
        {
          "output_type": "display_data",
          "data": {
            "image/png": "[encoded data removed]",
            "text/plain": [
              "<Figure size 1500x500 with 1 Axes>"
            ]
          },
          "metadata": {}
        }
      ]
    },
    {
      "cell_type": "markdown",
      "metadata": {
        "id": "RohqnUEEZQyN"
      },
      "source": [
        "## D)  Model v/s Price "
      ]
    },
    {
      "cell_type": "code",
      "metadata": {
        "id": "1Nmz3JY8PhA5",
        "colab": {
          "base_uri": "https://localhost:8080/",
          "height": 491
        },
        "outputId": "0ea07468-d152-4588-b13a-91968a6248c7"
      },
      "source": [
        "#load the data in group for visual representation of the data\n",
        "#Take the sum of price attribute of the data\n",
        "#sort the values from higher to lower\n",
        "model_price = carmodels.groupby('year')['price'].sum().sort_values()\n",
        "\n",
        "#load matplotlib and seaborn library to generate visual graphs\n",
        "plt.figure(figsize=(15,5))\n",
        "pal = sns.color_palette(\"Blues\", len(model_price))\n",
        "sns.lineplot(x=model_price.index , y=model_price , palette=pal)\n",
        "\n",
        "#rotate the labels on x-axis by 70 degrees for better visibility of the data\n",
        "plt.xticks(rotation=70)\n",
        "\n",
        "#Graph title\n",
        "plt.title('Year v/s Price graph')\n",
        "\n",
        "#save the image in png format \n",
        "plt.savefig(\"year_price.png\")"
      ],
      "execution_count": null,
      "outputs": [
        {
          "output_type": "display_data",
          "data": {
            "image/png": "[encoded data removed]",
            "text/plain": [
              "<Figure size 1500x500 with 1 Axes>"
            ]
          },
          "metadata": {}
        }
      ]
    },
    {
      "cell_type": "markdown",
      "metadata": {
        "id": "11voexvhfDvi"
      },
      "source": [
        "## Insights \n",
        "\n",
        "---\n",
        "\n",
        "\n",
        "<br>\n",
        "\n",
        "\n",
        "1.   The price graph follows the trend line **y = 1.3 + 2.5x ( x $10^8$)**. <br>\n",
        "The Least Square Method was used to estimate the trend line. This approach may be used to **forecast** future prices and provide a quick overview of historical sales as well as opportunities for development.\n",
        "2.  The slope of the trend line is (m) = 2.5, with a positive slope , the sales are grwing from left to right. \n",
        "3.  From left to right, sales are growing.\n",
        "However, a price reduction from 2019 to 2020 has a greater influence on company profit margins, since sales of motor manufacturers were halted owing to the pandemic, resulting in a price drop.  <br> *(Mercedes stocks are owned by Daimler AG)*\n",
        "4. The firm was in a loss of -2.53 % with a volume of 13M to 24M during the severe pandemic, i.e. from 10th January 2020 to 6th November 2020.\n",
        "\n",
        "\n"
      ]
    },
    {
      "cell_type": "markdown",
      "metadata": {
        "id": "kzGS4l5D7aUT"
      },
      "source": [
        "## E) Mileage v/s Transmission "
      ]
    },
    {
      "cell_type": "code",
      "metadata": {
        "id": "X0_B94kYt22N",
        "colab": {
          "base_uri": "https://localhost:8080/",
          "height": 398
        },
        "outputId": "0ea968a9-b217-484d-de4c-f0c3d8633e63"
      },
      "source": [
        "#load the data in group for visual representation of the data\n",
        "#load matplotlib and seaborn library to generate visual graphs\n",
        "\n",
        "model_transmission = sns.barplot(x='mileage', y='transmission', data=carmodels)\n",
        "\n",
        "#Graph title\n",
        "plt.title('mileage v/s Transmission graph')\n",
        "\n",
        "#save the image in png format \n",
        "plt.savefig(\"model_transmission.png\")"
      ],
      "execution_count": null,
      "outputs": [
        {
          "output_type": "display_data",
          "data": {
            "image/png": "[encoded data removed]",
            "text/plain": [
              "<Figure size 600x400 with 1 Axes>"
            ]
          },
          "metadata": {}
        }
      ]
    },
    {
      "cell_type": "markdown",
      "metadata": {
        "id": "1NbOkgV97WDS"
      },
      "source": [
        "## Insights\n",
        "\n",
        "---\n",
        "\n",
        "<br>\n",
        "\n",
        "1.  Manual Transmission has the most mileage of the three most recent transmission systems when compared to the other transmission systems.\n",
        "\n",
        "\n",
        "> - Manual transmissions include more gears and a simpler design, resulting in a lighter transmission system.\n",
        "\n",
        "\n",
        "> - A simpler design decreases the car's annual fuel consumption and, as a result, the cost of maintenance.\n",
        "\n",
        "\n",
        "\n",
        "\n",
        "2.   The other category may include the following transmission systems (these are some of the examples of transmission system)\n",
        "\n",
        "\n",
        "> - **Tiptronic Transmission :**\n",
        "A tiptronic is a type of automatic transmission that allows for fully automatic gear shifting or manual gear shifting by the driver. Tiptronics use a torque converter rather than a clutch.\n",
        "\n",
        "\n",
        "> - **Dual Clutch Transmission (DCT) :**\n",
        "A dual clutch transmission has two gear shafts with a clutch for each. The dual system allows for faster and smoother gear changes.\n",
        "\n",
        "\n",
        "\n",
        "\n"
      ]
    },
    {
      "cell_type": "markdown",
      "metadata": {
        "id": "tTU_xU65CHbN"
      },
      "source": [
        "## F) Model v/s Tax"
      ]
    },
    {
      "cell_type": "code",
      "metadata": {
        "id": "0tPRZ7rYS9gs"
      },
      "source": [
        "model_tax_data = carmodels.groupby('model')['tax'].sum().sort_values()\n",
        "df = pd.DataFrame(model_tax_data)\n",
        "df.to_excel(\"model_tax_data.xlsx\")"
      ],
      "execution_count": null,
      "outputs": []
    },
    {
      "cell_type": "code",
      "metadata": {
        "colab": {
          "base_uri": "https://localhost:8080/",
          "height": 518
        },
        "id": "WVR_6Qg2wc_e",
        "outputId": "cbedf6e7-6872-4eb1-be54-1546a46db5a1"
      },
      "source": [
        "#load the data in group for visual representation of the data\n",
        "#Take the mean of Miles per gallon (mpg) attribute of the data\n",
        "#sort the values from higher to lower\n",
        "model_transmission1 = carmodels.groupby('model')['tax'].sum().sort_values()\n",
        "\n",
        "#load matplotlib and seaborn library to generate visual graphs\n",
        "plt.figure(figsize=(15,5))\n",
        "\n",
        "#add color to the graph\n",
        "pal = sns.color_palette(\"Blues\", len(model_transmission1)) \n",
        "\n",
        "sns.barplot(x=model_transmission1.index , y=model_transmission1 , palette=pal)\n",
        "\n",
        "plt.xticks(rotation=70)  #rotate the labels on x-axis by 70 degrees for better visibility of the data\n",
        "\n",
        "#Graph title\n",
        "plt.title('Model v/s Road Tax Graph')\n",
        "\n",
        "#save the image in png format \n",
        "plt.savefig(\"model_transmission1.png\")"
      ],
      "execution_count": null,
      "outputs": [
        {
          "output_type": "display_data",
          "data": {
            "image/png": "[encoded data removed]",
            "text/plain": [
              "<Figure size 1500x500 with 1 Axes>"
            ]
          },
          "metadata": {}
        }
      ]
    },
    {
      "cell_type": "markdown",
      "metadata": {
        "id": "196W5_O4CVuV"
      },
      "source": [
        "## Insights\n",
        "\n",
        "---\n",
        "\n",
        "<br>\n",
        "\n",
        "**Road Tax Description**:  <br>\n",
        "1. It is a tax that must be paid by anybody who purchases a car. The Road Tax is a state-level tax, meaning that it is imposed at the state level by the governments of several states.\n",
        "2. For charging the road tax, each state has its own set of rules and regulations. The amount of tax varies due to the varied percentages charged by different states. According to the Central Motor Vehicles Act, if a vehicle is operated for more than a year, the entire amount of road tax must be paid at once. <br>\n",
        "\n",
        "3. Individuals purchasing a vehicle pay the road tax which is based on the ex-showroom price of the vehicle. The calculation of road tax depends on these following things:\n",
        "\n",
        "  a. Seating capacity of the vehicle <br>\n",
        "  b. Engine capacity of the vehicle <br>\n",
        "  c. Age of the vehicle <br>\n",
        "  d. Weight of the Vehicle <br>\n",
        "*Note: This is according to Indian Rules and Regulations* <br>\n",
        "<br>\n",
        "**Analysis** <br>\n",
        "1. Although the Mercedes C class has more advanced built-in technology, making the C class interface more user-friendly, it has a far higher road tax than the Mercedes A class, by 9.29 percent.\n",
        "<br>\n",
        "2. When it comes to miles per gallon and price, an A class vehicle would be a better choice than a C class model.\n"
      ]
    },
    {
      "cell_type": "markdown",
      "metadata": {
        "id": "j8kTB9SGsSUT"
      },
      "source": [
        "## G) Fueltype v/s Mileage"
      ]
    },
    {
      "cell_type": "code",
      "metadata": {
        "id": "Co81kfPMtUsS"
      },
      "source": [
        "fueltype_mileage_data = carmodels.groupby('fuelType')['mileage'].sum().sort_values()\n",
        "df = pd.DataFrame(fueltype_mileage_data)\n",
        "df.to_excel(\"fueltype_mileage_data.xlsx\")"
      ],
      "execution_count": null,
      "outputs": []
    },
    {
      "cell_type": "code",
      "metadata": {
        "colab": {
          "base_uri": "https://localhost:8080/",
          "height": 497
        },
        "id": "IwIOtPBIWBfb",
        "outputId": "e78134c0-e918-4cde-d9b1-b759f601f94f"
      },
      "source": [
        "#load the data in group for visual representation of the data\n",
        "#Take the mean of Miles per gallon (mpg) attribute of the data\n",
        "#sort the values from higher to lower\n",
        "model_fueltype = carmodels.groupby('fuelType')['mileage'].sum().sort_values()\n",
        "\n",
        "\n",
        "#load matplotlib and seaborn library to generate visual graphs\n",
        "plt.figure(figsize=(15,5))\n",
        "\n",
        "#add color to the graph\n",
        "pal = sns.color_palette(\"Blues\", len(model_fueltype))\n",
        "\n",
        "sns.barplot(x=model_fueltype.index , y=model_fueltype , palette=pal)\n",
        "\n",
        "#rotate the labels on x-axis by 70 degrees for better visibility of the data\n",
        "plt.xticks(rotation=70)\n",
        "\n",
        "#Graph title\n",
        "plt.title('Fueltype v/s mileage graph')\n",
        "\n",
        "#save the image in png format \n",
        "plt.savefig(\"model_fueltype.png\")"
      ],
      "execution_count": null,
      "outputs": [
        {
          "output_type": "display_data",
          "data": {
            "image/png": "[encoded data removed]",
            "text/plain": [
              "<Figure size 1500x500 with 1 Axes>"
            ]
          },
          "metadata": {}
        }
      ]
    },
    {
      "cell_type": "markdown",
      "metadata": {
        "id": "ajE4HJnysNS8"
      },
      "source": [
        "## Insights\n",
        "\n",
        "---\n",
        "<br>\n",
        "1. For long distance travel, diesel engines are recommended. For those who are Hodophile, Mercedes automobile models with Diesel engines have a 79 percent probability of being their first preference. <br>\n",
        "2.  Diesel engines are limited for vehicles that have a high frequency of travel, such as trucks, buses, and off-road vehicles, despite having higher efficiency and lower costs than petroleum. Because of the increased green house gases, diesel engines are limited for vehicles that have a high frequency of travel, such as trucks, buses, and off-road vehicles.\n",
        "\n"
      ]
    },
    {
      "cell_type": "markdown",
      "metadata": {
        "id": "XCE48r-Q_r6R"
      },
      "source": [
        "#  Conclusion\n",
        "\n",
        "---\n",
        "<br>\n",
        "\n",
        "The deduction and statistical analysis determined with the full consideration of metrics of Mercedes Model cars using the dataset. The notebook have explored Transmission, Miles/gallon, Mileage and road tax metrics for better comprehension of our dataset.  \n",
        "<br>\n",
        "1. For those who want to buy a car for travel or daily use, the miles per gallon number should be greater than 30 mpg.\n",
        "2. Mileage is another element that influences a vehicle's fuel usage. The cost of maintaining a car is determined by its mileage.\n",
        "3. Manual transmissions have more gears and a simpler design, making them lighter.\n",
        "4. Diesel engines are restricted for vehicles that travel often, such as trucks, buses, and off-road vehicles, due to higher greenhouse gas emissions."
      ]
    }
  ]
}